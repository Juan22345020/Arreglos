{
  "nbformat": 4,
  "nbformat_minor": 0,
  "metadata": {
    "colab": {
      "provenance": [],
      "authorship_tag": "ABX9TyM1MJ5NrXGJVd8gmV196rh4",
      "include_colab_link": true
    },
    "kernelspec": {
      "name": "python3",
      "display_name": "Python 3"
    },
    "language_info": {
      "name": "python"
    }
  },
  "cells": [
    {
      "cell_type": "markdown",
      "metadata": {
        "id": "view-in-github",
        "colab_type": "text"
      },
      "source": [
        "<a href=\"https://colab.research.google.com/github/Juan22345020/Arreglos/blob/main/arreglos.ipynb\" target=\"_parent\"><img src=\"https://colab.research.google.com/assets/colab-badge.svg\" alt=\"Open In Colab\"/></a>"
      ]
    },
    {
      "cell_type": "code",
      "execution_count": null,
      "metadata": {
        "colab": {
          "base_uri": "https://localhost:8080/"
        },
        "id": "K4j_TQXSUoNy",
        "outputId": "707abce7-02f9-4663-d6be-5cdd057ed271"
      },
      "outputs": [
        {
          "output_type": "stream",
          "name": "stdout",
          "text": [
            "2\n",
            "1\n",
            "2\n",
            "6\n",
            "3\n",
            "4\n",
            "3\n",
            "2\n",
            "3\n",
            "1\n",
            "[2, 1, 2, 6, 3, 4, 3, 2, 3, 1]\n"
          ]
        }
      ],
      "source": [
        "#Vector p array con numeros aleatorios\n",
        "\n",
        "import random\n",
        "\n",
        "x = [None]*10\n",
        "\n",
        "for i in range (10):\n",
        "    x[i] = random.randint(1,6)\n",
        "    print(x[i])\n",
        "print(x)    "
      ]
    },
    {
      "cell_type": "code",
      "source": [
        "# Suma de los elementos de un vector\n",
        "\n",
        "suma=0\n",
        "vector= [None]*5\n",
        "\n",
        "for i in range(5):\n",
        "    a= int(input(\"Dame un elemento: \"))\n",
        "    vector[i]= a\n",
        "    suma= suma + vector[i]\n",
        "\n",
        "print(\"Elvector es: \")\n",
        "print(vector)\n",
        "print(\"La suma de los elementos del vector es: \", sum)"
      ],
      "metadata": {
        "colab": {
          "base_uri": "https://localhost:8080/"
        },
        "id": "6cb0ZSR7U6Gi",
        "outputId": "b36e3bd5-aa72-48ad-d95b-a7d7d1b059a4"
      },
      "execution_count": null,
      "outputs": [
        {
          "output_type": "stream",
          "name": "stdout",
          "text": [
            "Dame un elemento: 3\n",
            "Dame un elemento: 5\n",
            "Dame un elemento: 5\n",
            "Dame un elemento: 6\n",
            "Dame un elemento: 6\n",
            "Elvector es: \n",
            "[3, 5, 5, 6, 6]\n",
            "La suma de los elementos del vector es:  <built-in function sum>\n"
          ]
        }
      ]
    },
    {
      "cell_type": "markdown",
      "source": [
        "# Una empresa tiene 250 empleados por cada uno de ellos tenemos un registro que trae grabado 2 datos\n",
        "# el nombre del empleado  y su correspondiente salario menual: hacer un programa en pytrhon que averigue e\n",
        "# imprima cuantos empleados ganan mas del promedio salarial de la empresa"
      ],
      "metadata": {
        "id": "VqfbhGStVIL4"
      }
    },
    {
      "cell_type": "code",
      "source": [
        "empleados = [None]*3\n",
        "salarios = [None]*3\n",
        "\n",
        "\n",
        "\n",
        "prom_salario=0\n",
        "num_empleados=0\n",
        "num_empleados_mayor=0\n",
        "\n",
        "for i in range(3):\n",
        "  empleados[i]= input(\"Nombre: \")\n",
        "  salarios[i]=int(input(\"Salario: \"))\n",
        "  prom_salario= prom_salario + salarios[i]\n",
        "\n",
        "prom_salario=prom_salario/len(empleados)\n",
        "\n",
        "for i in range(3):\n",
        "  if salarios[i]>prom_salario:\n",
        "    num_empleados_mayor+=1\n",
        "\n",
        "print(num_empleados_mayor)"
      ],
      "metadata": {
        "id": "jEGs7QRcVRXa"
      },
      "execution_count": null,
      "outputs": []
    },
    {
      "cell_type": "markdown",
      "source": [
        "# Ejercicios arreglos o arrays o vectores\n",
        "\n",
        "1. Hacer un programa en Python, que lea un vector A de n elementos, que averigue e imprima cual es el mayor elemento, y en que posicion se encuentra\n",
        "\n",
        "2. La norma de un vector esta representada como la raiz de la suma de sus elementos elevados al cuadrado. Hacer un programa en python que calcule la magnitud o norma de un vector\n",
        "\n",
        "3. Sea u= (x,y), v= (a,b). El producto punto entre u y v esta dad por el producto del primer elemento de u con el primer elmento de v mas el producto de el segundo elemento de u por el segundo elemento de v. EN caso de haber mas elementos se continua esta metolodigia sucesivamente. Hacer un programa en python que calcule el producto entre 2 vectores."
      ],
      "metadata": {
        "id": "M6SyjE18VvBf"
      }
    },
    {
      "cell_type": "code",
      "source": [
        "## EJercicio 1\n",
        "\n",
        "vector=[None]*5\n",
        "\n",
        "\n",
        "\n",
        "for i in range (5):\n",
        "   vector_a = int(input(\"Dame el valor de un numero del vector: \"))\n",
        "   vector[i]=vector_a\n",
        "   \n",
        "def num_mayor (vector):\n",
        "    num_m=vector[0]\n",
        "    for x in vector:\n",
        "      if x > num_m:\n",
        "        num_m = x\n",
        "    return num_m \n",
        "\n",
        "posicion= vector.index(num_mayor(vector))\n",
        "\n",
        "print(\"El vector es: \")\n",
        "print(vector)\n",
        "print(\"el numero mayor es: \" +str(num_mayor(vector)))\n",
        "print(\"La posicion del numero mayor es: \" + str(posicion))\n",
        "\n"
      ],
      "metadata": {
        "id": "TZZaDl34XMEW",
        "colab": {
          "base_uri": "https://localhost:8080/"
        },
        "outputId": "8e28a13a-de0c-43de-f7f0-92f6b30afa54"
      },
      "execution_count": null,
      "outputs": [
        {
          "output_type": "stream",
          "name": "stdout",
          "text": [
            "Dame el valor de un numero del vector: 6\n",
            "Dame el valor de un numero del vector: 89\n",
            "Dame el valor de un numero del vector: 9\n",
            "Dame el valor de un numero del vector: 8\n",
            "Dame el valor de un numero del vector: 7\n",
            "El vector es: \n",
            "[6, 89, 9, 8, 7]\n",
            "el numero mayor es: 89\n",
            "La posicion del numero mayor es: 1\n"
          ]
        }
      ]
    },
    {
      "cell_type": "code",
      "source": [
        "# Ejercicio 2\n",
        "\n",
        "import math\n",
        "\n",
        "vector=[None]*3\n",
        "\n",
        "for i in range (3):\n",
        "   vector_a = int(input(\"Dame el valor de un numero del vector: \"))\n",
        "   vector[i]=vector_a\n",
        "\n",
        "def hallar_norma (vector):\n",
        "    norma_v = vector[0]\n",
        "    norma_v= math.sqrt(sum(x**2  for x in vector ))\n",
        "    return norma_v\n",
        "\n",
        "\n",
        "print(\"la norma del vector es:\" + str(hallar_norma(vector)))\n",
        "   \n",
        "\n",
        "\n"
      ],
      "metadata": {
        "id": "ravJjbwTnEA0",
        "colab": {
          "base_uri": "https://localhost:8080/"
        },
        "outputId": "2ec5833b-92b6-43ba-8377-2f7be2a896ce"
      },
      "execution_count": null,
      "outputs": [
        {
          "output_type": "stream",
          "name": "stdout",
          "text": [
            "Dame el valor de un numero del vector: 3\n",
            "Dame el valor de un numero del vector: 2\n",
            "Dame el valor de un numero del vector: 1\n",
            "la norma es:3.7416573867739413\n"
          ]
        }
      ]
    },
    {
      "cell_type": "code",
      "source": [
        "u=[None]*2\n",
        "\n",
        "v=[None]*2\n",
        "\n",
        "def producto_punto(u, v):\n",
        "    if len(u) != len(v):\n",
        "        raise ValueError(\"Los vectores deben tener la misma longitud\")\n",
        "    \n",
        "    resultado = 0\n",
        "    for i in range(len(u)):\n",
        "        resultado += u[i] * v[i]\n",
        "    \n",
        "    return resultado\n",
        "\n",
        "\n",
        "for i in range (2):\n",
        "     vector_a = int(input(\"Ingrese los valores del vector u: \"))\n",
        "     u[i]= vector_a\n",
        "\n",
        "for i in range (2):\n",
        "     vector_b = int(input(\"Ingrese el valores del vector v: \"))\n",
        "     v[i]= vector_b\n",
        "\n",
        "\n",
        "resultado = producto_punto(u,v)\n",
        "\n",
        "\n",
        "print(\"El producto punto entre los vectores\", u, \"y\", v, \"es:\", resultado)\n",
        "\n"
      ],
      "metadata": {
        "colab": {
          "base_uri": "https://localhost:8080/"
        },
        "id": "UorCdNTM0wAi",
        "outputId": "51c2ba16-af9a-4d79-ab78-c54c92252aa4"
      },
      "execution_count": null,
      "outputs": [
        {
          "output_type": "stream",
          "name": "stdout",
          "text": [
            "Ingrese los valores del vector u: 2\n",
            "Ingrese los valores del vector u: 3\n",
            "Ingrese el valores del vector v: 4\n",
            "Ingrese el valores del vector v: 2\n",
            "El producto punto entre los vectores [2, 3] y [4, 2] es: 14\n"
          ]
        }
      ]
    }
  ]
}